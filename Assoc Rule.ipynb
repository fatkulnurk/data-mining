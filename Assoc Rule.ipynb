{
 "cells": [
  {
   "cell_type": "code",
   "execution_count": 1,
   "metadata": {},
   "outputs": [
    {
     "ename": "ModuleNotFoundError",
     "evalue": "No module named 'apyori'",
     "output_type": "error",
     "traceback": [
      "\u001b[1;31m---------------------------------------------------------------------------\u001b[0m",
      "\u001b[1;31mModuleNotFoundError\u001b[0m                       Traceback (most recent call last)",
      "\u001b[1;32m<ipython-input-1-02916df63bfc>\u001b[0m in \u001b[0;36m<module>\u001b[1;34m\u001b[0m\n\u001b[0;32m      3\u001b[0m \u001b[1;32mimport\u001b[0m \u001b[0mmatplotlib\u001b[0m\u001b[1;33m.\u001b[0m\u001b[0mpyplot\u001b[0m \u001b[1;32mas\u001b[0m \u001b[0mplt\u001b[0m\u001b[1;33m\u001b[0m\u001b[1;33m\u001b[0m\u001b[0m\n\u001b[0;32m      4\u001b[0m \u001b[1;32mimport\u001b[0m \u001b[0mpandas\u001b[0m \u001b[1;32mas\u001b[0m \u001b[0mpd\u001b[0m\u001b[1;33m\u001b[0m\u001b[1;33m\u001b[0m\u001b[0m\n\u001b[1;32m----> 5\u001b[1;33m \u001b[1;32mfrom\u001b[0m \u001b[0mapyori\u001b[0m \u001b[1;32mimport\u001b[0m \u001b[0mapriori\u001b[0m\u001b[1;33m\u001b[0m\u001b[1;33m\u001b[0m\u001b[0m\n\u001b[0m\u001b[0;32m      6\u001b[0m \u001b[1;32mimport\u001b[0m \u001b[0mmath\u001b[0m\u001b[1;33m\u001b[0m\u001b[1;33m\u001b[0m\u001b[0m\n\u001b[0;32m      7\u001b[0m \u001b[1;33m\u001b[0m\u001b[0m\n",
      "\u001b[1;31mModuleNotFoundError\u001b[0m: No module named 'apyori'"
     ]
    }
   ],
   "source": [
    "#%%\n",
    "import numpy as np  \n",
    "import matplotlib.pyplot as plt  \n",
    "import pandas as pd  \n",
    "from apyori import apriori  \n",
    "import math\n",
    "\n",
    "#membaca file\n",
    "datafile = pd.read_csv(\"dataset2.csv\", index_col=False, squeeze=True)\n",
    "#print(datafile)\n",
    "\n",
    "print(datafile.head())\n",
    "# print(datafile.dropna())\n",
    "\n",
    "#use apriori\n",
    "records = []  \n",
    "for i in range(0, 5):\n",
    "    temp = []\n",
    "    for j in range(0, 4):\n",
    "        if str(datafile.values[i, j]) != 'nan':\n",
    "            temp.append(str(datafile.values[i, j]))\n",
    "    records.append(temp)\n",
    "\n",
    "print(records)\n",
    "\n",
    "#applying apriori\n",
    "association_rules = apriori(records, min_support=0.3, min_confidence=0.8, use_colnames=True, min_len=2)\n",
    "association_results = list(association_rules) \n",
    "# print(association_results[0])\n",
    "\n",
    "for item in association_results:\n",
    "    # print(item)\n",
    "    #print(item[0])\n",
    "    # print(item[1])\n",
    "    # print(len(item[0]))\n",
    "\n",
    "    # first index of the inner list\n",
    "    # Contains base item and add item\n",
    "    pair = item[0] \n",
    "    items = [x for x in pair]\n",
    "    if (len(pair) == 1):\n",
    "        print(\"Rule: \" + items[0])\n",
    "    elif (len(pair) == 2):    \n",
    "        print(\"Rule: \" + items[0] + \" -> \" + items[1])\n",
    "    elif (len(pair) == 3):\n",
    "        print(\"Rule: \" + items[0] + \" -> \" + items[1] + \" & \" + items[2]) \n",
    "\n",
    "    #second index of the inner list\n",
    "    print(\"Support: \" + str(item[1]))\n",
    "\n",
    "    #third index of the list located at 0th\n",
    "    #of the third index of the inner list\n",
    "\n",
    "    print(\"Confidence: \" + str(item[2][0][2]))\n",
    "    print(\"Lift: \" + str(item[2][0][3]))\n",
    "    print(\"=====================================\")\n",
    "\n",
    "# print(len(association_results))\n"
   ]
  },
  {
   "cell_type": "code",
   "execution_count": null,
   "metadata": {},
   "outputs": [],
   "source": []
  }
 ],
 "metadata": {
  "kernelspec": {
   "display_name": "Python 3",
   "language": "python",
   "name": "python3"
  },
  "language_info": {
   "codemirror_mode": {
    "name": "ipython",
    "version": 3
   },
   "file_extension": ".py",
   "mimetype": "text/x-python",
   "name": "python",
   "nbconvert_exporter": "python",
   "pygments_lexer": "ipython3",
   "version": "3.7.3"
  }
 },
 "nbformat": 4,
 "nbformat_minor": 2
}
